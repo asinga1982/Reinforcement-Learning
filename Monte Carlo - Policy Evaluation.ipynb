{
 "cells": [
  {
   "cell_type": "code",
   "execution_count": 7,
   "metadata": {},
   "outputs": [],
   "source": [
    "import numpy as np\n",
    "%run Grid_world.ipynb\n",
    "import import_ipynb\n",
    "from Iterative_Policy_Evaluation import print_values, print_policy, fixed_policy"
   ]
  },
  {
   "cell_type": "code",
   "execution_count": 8,
   "metadata": {},
   "outputs": [],
   "source": [
    "SMALL_ENOUGH = 1e-3\n",
    "GAMMA = 0.9\n",
    "ALL_POSSIBLE_ACTIONS = ('U', 'D', 'L', 'R')"
   ]
  },
  {
   "cell_type": "code",
   "execution_count": 24,
   "metadata": {},
   "outputs": [],
   "source": [
    "def play_game(policy,grid):\n",
    "    # returns a list of states and corresponding returns\n",
    "    possible_start_states = list(grid.actions.keys())\n",
    "    random_start_idx = np.random.choice(len(possible_start_states))\n",
    "    grid.set_state(possible_start_states[random_start_idx])\n",
    "    \n",
    "    s = grid.current_state()\n",
    "    states_rewards = [(s,0.0)] #Assign zero reward to starting state\n",
    "    #Play game using the policy and collect states and rewards\n",
    "    while not grid.game_over():\n",
    "        action = policy[s]\n",
    "        reward = grid.move(action)\n",
    "        s = grid.current_state()\n",
    "        states_rewards.append((s,reward))\n",
    "        \n",
    "    states_returns = []    \n",
    "    G = 0\n",
    "    first = True\n",
    "    for s, r in reversed(states_rewards):\n",
    "    # the value of the terminal state is 0 by definition\n",
    "    # we should ignore the first state we encounter\n",
    "    # and ignore the last G, which is meaningless since it doesn't correspond to any move\n",
    "        if first:\n",
    "            G = 0 #Terminal state has no future reward\n",
    "            first = False\n",
    "        else:\n",
    "            states_returns.append((s,G))\n",
    "        G = r + GAMMA*G\n",
    "    \n",
    "    states_returns.reverse()\n",
    "    return states_returns"
   ]
  },
  {
   "cell_type": "code",
   "execution_count": 33,
   "metadata": {},
   "outputs": [
    {
     "name": "stdout",
     "output_type": "stream",
     "text": [
      "rewards:\n",
      "---------------------------\n",
      "-0.10|-0.10|-0.10| 1.00|\n",
      "---------------------------\n",
      "-0.10| 0.00|-0.10|-1.00|\n",
      "---------------------------\n",
      "-0.10|-0.10|-0.10|-0.10|\n",
      "\n",
      "Given Policy:\n",
      "---------------------------\n",
      "  R  |  R  |  R  |     |\n",
      "---------------------------\n",
      "  U  |     |  R  |     |\n",
      "---------------------------\n",
      "  U  |  R  |  R  |  U  |\n",
      "\n",
      "Final Values:\n",
      "---------------------------\n",
      " 0.62| 0.80| 1.00| 0.00|\n",
      "---------------------------\n",
      " 0.46| 0.00|-1.00| 0.00|\n",
      "---------------------------\n",
      " 0.31|-1.00|-1.00|-1.00|\n"
     ]
    }
   ],
   "source": [
    "if __name__ ==  \"__main__\":\n",
    "    grid = negative_grid()\n",
    "    \n",
    "    # print rewards\n",
    "    print(\"rewards:\")\n",
    "    print_values(grid.rewards, grid)\n",
    "\n",
    "    # state -> action\n",
    "    policy = {\n",
    "        (2, 0): 'U',\n",
    "        (1, 0): 'U',\n",
    "        (0, 0): 'R',\n",
    "        (0, 1): 'R',\n",
    "        (0, 2): 'R',\n",
    "        (1, 2): 'R',\n",
    "        (2, 1): 'R',\n",
    "        (2, 2): 'R',\n",
    "        (2, 3): 'U' }\n",
    "    print(\"\\nGiven Policy:\")\n",
    "    print_policy(policy, grid)\n",
    "    \n",
    "    # initialize V(s) and returns\n",
    "    V = {}\n",
    "    returns = {} # dictionary of state -> list of returns we've received\n",
    "    states = grid.all_states()\n",
    "    \n",
    "    for s in states:\n",
    "        if s in grid.actions:\n",
    "            returns[s] = []\n",
    "        else:\n",
    "          # terminal state or state we can't otherwise get to\n",
    "            V[s] = 0\n",
    "\n",
    "    #play 100 games and avg the returns\n",
    "    for i in range(100):\n",
    "        states_returns = play_game(policy, grid)\n",
    "        seen_states = set()\n",
    "        for s, G in states_returns:\n",
    "          # check if we have already seen s\n",
    "          # called \"first-visit\" MC policy evaluation\n",
    "            if s not in seen_states:\n",
    "                returns[s].append(G)\n",
    "                V[s] = np.mean(returns[s])\n",
    "                seen_states.add(s)\n",
    "    \n",
    "    # final state values\n",
    "    print(\"\\nFinal Values:\")\n",
    "    print_values(V, grid)"
   ]
  }
 ],
 "metadata": {
  "kernelspec": {
   "display_name": "Python 3",
   "language": "python",
   "name": "python3"
  },
  "language_info": {
   "codemirror_mode": {
    "name": "ipython",
    "version": 3
   },
   "file_extension": ".py",
   "mimetype": "text/x-python",
   "name": "python",
   "nbconvert_exporter": "python",
   "pygments_lexer": "ipython3",
   "version": "3.6.6"
  }
 },
 "nbformat": 4,
 "nbformat_minor": 2
}
