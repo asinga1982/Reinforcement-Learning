{
 "cells": [
  {
   "cell_type": "code",
   "execution_count": 1,
   "metadata": {},
   "outputs": [
    {
     "name": "stdout",
     "output_type": "stream",
     "text": [
      "importing Jupyter notebook from Iterative Policy Evaluation.ipynb\n"
     ]
    }
   ],
   "source": [
    "import numpy as np\n",
    "import matplotlib.pyplot as plt\n",
    "%run Grid_world.ipynb\n",
    "import import_ipynb\n",
    "from Iterative_Policy_Evaluation import print_values, print_policy, fixed_policy"
   ]
  },
  {
   "cell_type": "code",
   "execution_count": 2,
   "metadata": {},
   "outputs": [],
   "source": [
    "SMALL_ENOUGH = 1e-5\n",
    "GAMMA = 0.9\n",
    "ALL_POSSIBLE_ACTIONS = ('U', 'D', 'L', 'R')\n"
   ]
  },
  {
   "cell_type": "code",
   "execution_count": 20,
   "metadata": {},
   "outputs": [],
   "source": [
    "def random_action(a, eps=0.2):\n",
    "    \"\"\"Chose the given action with probability (1- eps) and choose randomly otherwise.\"\"\"\n",
    "    p = np.random.random()\n",
    "    if p < (1-eps):\n",
    "        return a\n",
    "    else:\n",
    "        return np.random.choice(ALL_POSSIBLE_ACTIONS)"
   ]
  },
  {
   "cell_type": "code",
   "execution_count": 21,
   "metadata": {},
   "outputs": [],
   "source": [
    "def play_game(grid, policy, start_pos=(2,0)):\n",
    "    \"\"\"Returns the state, action, returns tuple for each state encountered in the episode\"\"\"\n",
    "    \n",
    "    \n",
    "    #Start form fixed position everytime\n",
    "    grid.set_state(start_pos)\n",
    "    s = grid.current_state()\n",
    "    \n",
    "    #Chose action using random action function (epsilon-greedy)\n",
    "    action = random_action(policy[s])\n",
    "       \n",
    "    states_actions_rewards = [(s,action,0.0)] #Assign zero reward to starting state and action\n",
    "    #Play game using the policy and collect states and rewards\n",
    "    seen_states = set()\n",
    "    seen_states.add(s)\n",
    "    num_steps = 0\n",
    "    while not grid.game_over():\n",
    "        num_steps += 1\n",
    "        old_state = s\n",
    "        reward = grid.move(action)\n",
    "        s = grid.current_state()\n",
    "        \n",
    "        if s in seen_states:  #Terminate episode if the states run into a loop\n",
    "            states_actions_rewards.append((s,None, -10.0/num_steps))\n",
    "            break\n",
    "        elif grid.game_over():\n",
    "            states_actions_rewards.append((s,None, reward))\n",
    "            break\n",
    "        else:\n",
    "            action = random_action(policy[s])\n",
    "            states_actions_rewards.append((s,action,reward))\n",
    "        seen_states.add(s)\n",
    "            \n",
    "    states_actions_returns = []    \n",
    "    G = 0\n",
    "    first = True\n",
    "    for s,a,r in reversed(states_actions_rewards):\n",
    "    # the value of the terminal state is 0 by definition\n",
    "    # we should ignore the first state we encounter\n",
    "    # and ignore the last G, which is meaningless since it doesn't correspond to any move\n",
    "        if first:\n",
    "            G = 0 #Terminal state has no future reward\n",
    "            first = False\n",
    "        else:\n",
    "            states_actions_returns.append((s,a,G))\n",
    "        G = r + GAMMA*G\n",
    "    \n",
    "    states_actions_returns.reverse()\n",
    "    return states_actions_returns"
   ]
  },
  {
   "cell_type": "code",
   "execution_count": 22,
   "metadata": {},
   "outputs": [],
   "source": [
    "def max_dict(d):\n",
    "    # returns the argmax (key) and max (value) from a dictionary\n",
    "    # put this into a function since we are using it so often\n",
    "    max_key = None\n",
    "    max_val = float('-inf')\n",
    "    for k, v in d.items():\n",
    "        if v > max_val:\n",
    "            max_val = v\n",
    "            max_key = k\n",
    "    return max_key, max_val"
   ]
  },
  {
   "cell_type": "code",
   "execution_count": 23,
   "metadata": {},
   "outputs": [
    {
     "name": "stdout",
     "output_type": "stream",
     "text": [
      "rewards:\n",
      "---------------------------\n",
      "-0.10|-0.10|-0.10| 1.00|\n",
      "---------------------------\n",
      "-0.10| 0.00|-0.10|-1.00|\n",
      "---------------------------\n",
      "-0.10|-0.10|-0.10|-0.10|\n",
      "\n",
      "Initial random policy:\n",
      "---------------------------\n",
      "  U  |  R  |  D  |     |\n",
      "---------------------------\n",
      "  U  |     |  U  |     |\n",
      "---------------------------\n",
      "  D  |  U  |  L  |  L  |\n",
      "\n",
      "Final policy:\n",
      "---------------------------\n",
      "  R  |  R  |  R  |     |\n",
      "---------------------------\n",
      "  U  |     |  U  |     |\n",
      "---------------------------\n",
      "  U  |  R  |  U  |  U  |\n",
      "\n",
      "Final values:\n",
      "---------------------------\n",
      "-0.11| 0.41| 1.00| 0.00|\n",
      "---------------------------\n",
      "-0.64| 0.00|-0.44| 0.00|\n",
      "---------------------------\n",
      "-1.26|-0.62|-0.24|-1.00|\n"
     ]
    },
    {
     "data": {
      "image/png": "[encoded data removed]",
      "text/plain": [
       "<Figure size 432x288 with 1 Axes>"
      ]
     },
     "metadata": {
      "needs_background": "light"
     },
     "output_type": "display_data"
    }
   ],
   "source": [
    "if __name__ ==  \"__main__\":\n",
    "    grid = negative_grid()\n",
    "    \n",
    "    # print rewards\n",
    "    print(\"rewards:\")\n",
    "    print_values(grid.rewards, grid)\n",
    "    \n",
    "    #Randomly generate a policy\n",
    "    policy = {}\n",
    "    for s in grid.actions.keys():\n",
    "        policy[s] = np.random.choice(ALL_POSSIBLE_ACTIONS)\n",
    "    \n",
    "    print(\"\\nInitial random policy:\")\n",
    "    print_policy(policy, grid)\n",
    "    \n",
    "    # initialize Q(s,a) and returns for all possible states and actions\n",
    "    Q = {}\n",
    "    returns = {} # dictionary of state -> list of returns we've received\n",
    "    states = grid.all_states()\n",
    "    for s in states:\n",
    "        if s in grid.actions: # not a terminal state\n",
    "            Q[s] = {}\n",
    "            for a in ALL_POSSIBLE_ACTIONS:\n",
    "                Q[s][a] = 0 # needs to be initialized to something so we can argmax it\n",
    "                returns[(s,a)] = []\n",
    "        else:\n",
    "           # terminal state or state we can't otherwise get to\n",
    "           pass\n",
    "    \n",
    "    #play games, avg the returns and update policy\n",
    "    deltas = []\n",
    "    min_itr = -100\n",
    "    for i in range(20000):\n",
    "        biggest_change = 0\n",
    "        states_actions_returns = play_game(grid,policy,start_pos=(2,0))\n",
    "        seen_states_actions = set()\n",
    "        for s, a, G in states_actions_returns:\n",
    "          # check if we have already seen s\n",
    "          # called \"first-visit\" MC policy evaluation\n",
    "            if (s,a) not in seen_states_actions:\n",
    "                old_q = Q[s][a]\n",
    "                returns[(s,a)].append(G)\n",
    "                Q[s][a] = np.mean(returns[(s,a)])\n",
    "                biggest_change = max(biggest_change, np.abs(old_q - Q[s][a]))\n",
    "                seen_states_actions.add((s,a))\n",
    "        \n",
    "        if (biggest_change < SMALL_ENOUGH) & (min_itr < 0):\n",
    "            min_itr = i\n",
    "            \n",
    "        deltas.append(biggest_change)\n",
    "        \n",
    "        #Policy Update, happens for each episode\n",
    "        for s in policy.keys():\n",
    "            policy[s] = max_dict(Q[s])[0]\n",
    "            \n",
    "            \n",
    "    # final Policy\n",
    "    print(\"\\nFinal policy:\")\n",
    "    print_policy(policy, grid)\n",
    "    \n",
    "    # find V\n",
    "    V = {}\n",
    "    for s, Qs in Q.items():\n",
    "        V[s] = max_dict(Q[s])[1]\n",
    "\n",
    "    #print(\"Min Iterations needed\", min_itr)    \n",
    "    print(\"\\nFinal values:\")\n",
    "    print_values(V, grid)\n",
    "    \n",
    "    plt.plot(deltas)\n",
    "    plt.show()"
   ]
  },
  {
   "cell_type": "code",
   "execution_count": null,
   "metadata": {},
   "outputs": [],
   "source": []
  }
 ],
 "metadata": {
  "kernelspec": {
   "display_name": "Python 3",
   "language": "python",
   "name": "python3"
  },
  "language_info": {
   "codemirror_mode": {
    "name": "ipython",
    "version": 3
   },
   "file_extension": ".py",
   "mimetype": "text/x-python",
   "name": "python",
   "nbconvert_exporter": "python",
   "pygments_lexer": "ipython3",
   "version": "3.6.6"
  }
 },
 "nbformat": 4,
 "nbformat_minor": 2
}
