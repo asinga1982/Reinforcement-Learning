{
 "cells": [
  {
   "cell_type": "code",
   "execution_count": 1,
   "metadata": {},
   "outputs": [
    {
     "name": "stdout",
     "output_type": "stream",
     "text": [
      "importing Jupyter notebook from Iterative Policy Evaluation.ipynb\n"
     ]
    }
   ],
   "source": [
    "import numpy as np\n",
    "%run Grid_world.ipynb\n",
    "import import_ipynb\n",
    "from Iterative_Policy_Evaluation import print_values, print_policy, fixed_policy"
   ]
  },
  {
   "cell_type": "code",
   "execution_count": 2,
   "metadata": {},
   "outputs": [],
   "source": [
    "SMALL_ENOUGH = 1e-3\n",
    "GAMMA = 0.9\n",
    "ALL_POSSIBLE_ACTIONS = ('U', 'D', 'L', 'R')"
   ]
  },
  {
   "cell_type": "code",
   "execution_count": 9,
   "metadata": {},
   "outputs": [
    {
     "name": "stdout",
     "output_type": "stream",
     "text": [
      "Rewards:\n",
      "---------------------------\n",
      "-0.10|-0.10|-0.10| 1.00|\n",
      "---------------------------\n",
      "-0.10| 0.00|-0.10|-1.00|\n",
      "---------------------------\n",
      "-0.10|-0.10|-0.10|-0.10|\n",
      "\n",
      "Initial policy:\n",
      "---------------------------\n",
      "  D  |  R  |  R  |     |\n",
      "---------------------------\n",
      "  D  |     |  R  |     |\n",
      "---------------------------\n",
      "  U  |  L  |  U  |  U  |\n",
      "Total Loops of Policy Iteration and Evaluation 4\n",
      "\n",
      "Final policy:\n",
      "---------------------------\n",
      "  R  |  R  |  R  |     |\n",
      "---------------------------\n",
      "  U  |     |  U  |     |\n",
      "---------------------------\n",
      "  U  |  R  |  U  |  L  |\n"
     ]
    }
   ],
   "source": [
    "if __name__ ==  \"__main__\":\n",
    "    grid = negative_grid()\n",
    "    \n",
    "    # print rewards\n",
    "    print(\"Rewards:\")\n",
    "    print_values(grid.rewards, grid)\n",
    "    \n",
    "    policy = {}\n",
    "    for s in grid.actions.keys():\n",
    "        policy[s] = np.random.choice(grid.actions[s])  #Randomly choose a possible action\n",
    "    # initial policy\n",
    "    print(\"\\nInitial policy:\")\n",
    "    print_policy(policy, grid)\n",
    "    \n",
    "    #Initialize state values for all states \n",
    "    V = {}\n",
    "    states = grid.all_states()\n",
    "    for s in states:\n",
    "        V[s] = 0\n",
    "    run_nbr  = 0\n",
    "    \n",
    "    while True:\n",
    "        run_nbr = run_nbr + 1\n",
    "        #Policy Evaluation\n",
    "        biggest_change = 0\n",
    "        for s in states:\n",
    "            old_v = V[s]\n",
    "\n",
    "            # V(s) only has value if it's not a terminal state\n",
    "            if s in policy:\n",
    "                new_v = float('-inf')\n",
    "                for a in ALL_POSSIBLE_ACTIONS:\n",
    "                    grid.set_state(s)\n",
    "                    r = grid.move(a)\n",
    "                    v = r + GAMMA * V[grid.current_state()] #Note: This doesn't use expected future gain over all actions \n",
    "                    if v > new_v:\n",
    "                        new_v = v\n",
    "                V[s] = new_v\n",
    "                biggest_change = max(biggest_change, np.abs(old_v - V[s]))\n",
    "        #print(\"\\nCurrent State Values:\")\n",
    "        #print_policy(V, grid)\n",
    "        if biggest_change < SMALL_ENOUGH:\n",
    "            print(\"Total Loops of Policy Iteration and Evaluation\", run_nbr)\n",
    "            break\n",
    "        \n",
    "    #Policy selection, runs only once outside the while loop\n",
    "    policy_converged = True\n",
    "    for state in states:\n",
    "        if state in policy:\n",
    "            old_action = policy[state]\n",
    "            best_action = None\n",
    "            best_value = float('-inf')\n",
    "            for action in ALL_POSSIBLE_ACTIONS:\n",
    "                grid.set_state(state)\n",
    "                reward = grid.move(action)\n",
    "                v_new = reward + GAMMA*V[grid.current_state()] #Check Reward for all possible actions in that state\n",
    "                if v_new > best_value:\n",
    "                    best_action = action\n",
    "                    best_value = v_new\n",
    "            policy[state] = best_action\n",
    "            #V[state] = best_value   #Speeds up policy evluation \n",
    "            #if best_action != old_action:\n",
    "            #    policy_converged = False\n",
    "    # final policy\n",
    "    print(\"\\nFinal policy:\")\n",
    "    print_policy(policy, grid)"
   ]
  },
  {
   "cell_type": "code",
   "execution_count": null,
   "metadata": {},
   "outputs": [],
   "source": []
  }
 ],
 "metadata": {
  "kernelspec": {
   "display_name": "Python 3",
   "language": "python",
   "name": "python3"
  },
  "language_info": {
   "codemirror_mode": {
    "name": "ipython",
    "version": 3
   },
   "file_extension": ".py",
   "mimetype": "text/x-python",
   "name": "python",
   "nbconvert_exporter": "python",
   "pygments_lexer": "ipython3",
   "version": "3.6.6"
  }
 },
 "nbformat": 4,
 "nbformat_minor": 2
}
